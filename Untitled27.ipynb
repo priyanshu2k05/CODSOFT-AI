{
 "cells": [
  {
   "cell_type": "code",
   "execution_count": 6,
   "id": "6c917fa1-9431-455d-a0c0-4a2ee4a8931f",
   "metadata": {},
   "outputs": [
    {
     "name": "stdout",
     "output_type": "stream",
     "text": [
      "Recommended movies for 'Movie B':\n",
      "Movie D\n",
      "Movie A\n",
      "Movie C\n"
     ]
    }
   ],
   "source": [
    "import pandas as pd\n",
    "from sklearn.feature_extraction.text import TfidfVectorizer\n",
    "from sklearn.metrics.pairwise import linear_kernel\n",
    "\n",
    "# Sample movie data (you can replace this with your dataset)\n",
    "movies = pd.DataFrame({\n",
    "    'Title': ['Movie A', 'Movie B', 'Movie C', 'Movie D'],\n",
    "    'Genre': ['Action', 'Comedy', 'Action, Adventure', 'Comedy, Romance'],\n",
    "})\n",
    "\n",
    "# Create a TF-IDF vectorizer for movie genres\n",
    "tfidf_vectorizer = TfidfVectorizer(stop_words='english')\n",
    "tfidf_matrix = tfidf_vectorizer.fit_transform(movies['Genre'])\n",
    "\n",
    "# Compute cosine similarity between movies based on genres\n",
    "cosine_sim = linear_kernel(tfidf_matrix, tfidf_matrix)\n",
    "\n",
    "# Function to get movie recommendations\n",
    "def get_recommendations(title, cosine_sim=cosine_sim):\n",
    "    idx = movies.index[movies['Title'] == title].tolist()[0]\n",
    "    sim_scores = list(enumerate(cosine_sim[idx]))\n",
    "    sim_scores = sorted(sim_scores, key=lambda x: x[1], reverse=True)\n",
    "    sim_scores = sim_scores[1:6]  # Top 5 similar movies (excluding itself)\n",
    "    movie_indices = [i[0] for i in sim_scores]\n",
    "    return movies['Title'].iloc[movie_indices]\n",
    "\n",
    "# Example usage:\n",
    "movie_title = 'Movie B'\n",
    "recommended_movies = get_recommendations(movie_title)\n",
    "print(f\"Recommended movies for '{movie_title}':\")\n",
    "print(recommended_movies.to_string(index=False))\n"
   ]
  },
  {
   "cell_type": "code",
   "execution_count": null,
   "id": "f4b8ffaf-2ef8-4f44-9f82-a9be5e17fc6c",
   "metadata": {},
   "outputs": [],
   "source": []
  }
 ],
 "metadata": {
  "kernelspec": {
   "display_name": "Python 3 (ipykernel)",
   "language": "python",
   "name": "python3"
  },
  "language_info": {
   "codemirror_mode": {
    "name": "ipython",
    "version": 3
   },
   "file_extension": ".py",
   "mimetype": "text/x-python",
   "name": "python",
   "nbconvert_exporter": "python",
   "pygments_lexer": "ipython3",
   "version": "3.11.7"
  }
 },
 "nbformat": 4,
 "nbformat_minor": 5
}
