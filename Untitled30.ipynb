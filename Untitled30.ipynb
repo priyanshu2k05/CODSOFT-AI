{
 "cells": [
  {
   "cell_type": "code",
   "execution_count": null,
   "id": "efe1042b",
   "metadata": {},
   "outputs": [
    {
     "name": "stdout",
     "output_type": "stream",
     "text": [
      "Welcome! Ask me anything or say goodbye to exit.\n"
     ]
    }
   ],
   "source": [
    "def chatbot_response(user_input):\n",
    "    user_input = user_input.lower()  # Convert input to lowercase for case insensitivity\n",
    "\n",
    "    # Define rules and responses\n",
    "    if user_input == \"hello\" or user_input == \"hi\":\n",
    "        return \"Hello! How can I help you today?\"\n",
    "    elif \"how are you\" in user_input:\n",
    "        return \"I'm just a chatbot, but thanks for asking!\"\n",
    "    elif \"your name\" in user_input:\n",
    "        return \"I'm a chatbot, so I don't have a personal name.\"\n",
    "    elif \"thank you\" in user_input or \"thanks\" in user_input:\n",
    "        return \"You're welcome!\"\n",
    "    elif \"bye\" in user_input or \"goodbye\" in user_input:\n",
    "        return \"Goodbye! Have a nice day.\"\n",
    "    else:\n",
    "        return \"I'm sorry, I don't understand. Could you please rephrase or ask something else?\"\n",
    "\n",
    "# Main function to run the chatbot\n",
    "def run_chatbot():\n",
    "    print(\"Welcome! Ask me anything or say goodbye to exit.\")\n",
    "\n",
    "    while True:\n",
    "        user_input = input(\"You: \")\n",
    "        if user_input.lower() == \"exit\":\n",
    "            print(\"Chatbot: Goodbye!\")\n",
    "            break\n",
    "        response = chatbot_response(user_input)\n",
    "        print(\"Chatbot:\", response)\n",
    "\n",
    "if __name__ == \"__main__\":\n",
    "    run_chatbot()"
   ]
  },
  {
   "cell_type": "code",
   "execution_count": null,
   "id": "863d787f",
   "metadata": {},
   "outputs": [],
   "source": []
  }
 ],
 "metadata": {
  "kernelspec": {
   "display_name": "Python 3 (ipykernel)",
   "language": "python",
   "name": "python3"
  },
  "language_info": {
   "codemirror_mode": {
    "name": "ipython",
    "version": 3
   },
   "file_extension": ".py",
   "mimetype": "text/x-python",
   "name": "python",
   "nbconvert_exporter": "python",
   "pygments_lexer": "ipython3",
   "version": "3.11.5"
  }
 },
 "nbformat": 4,
 "nbformat_minor": 5
}
